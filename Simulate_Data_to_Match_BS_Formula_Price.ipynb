{
 "cells": [
  {
   "cell_type": "code",
   "execution_count": 2,
   "metadata": {
    "scrolled": true
   },
   "outputs": [
    {
     "name": "stderr",
     "output_type": "stream",
     "text": [
      "C:\\Users\\Huang\\Anaconda3\\lib\\site-packages\\h5py\\__init__.py:36: FutureWarning: Conversion of the second argument of issubdtype from `float` to `np.floating` is deprecated. In future, it will be treated as `np.float64 == np.dtype(float).type`.\n",
      "  from ._conv import register_converters as _register_converters\n",
      "Using TensorFlow backend.\n"
     ]
    }
   ],
   "source": [
    "from keras.layers import Dense,BatchNormalization\n",
    "from keras.models import Sequential\n",
    "from sklearn import svm\n",
    "import numpy as np\n",
    "from scipy.stats import norm\n",
    "import matplotlib.pyplot as plt"
   ]
  },
  {
   "cell_type": "markdown",
   "metadata": {},
   "source": [
    "### BS Formula"
   ]
  },
  {
   "cell_type": "code",
   "execution_count": 3,
   "metadata": {},
   "outputs": [],
   "source": [
    "def bsPrice(rd,rf,S,K,T,sigma,callput):\n",
    "    #try:\n",
    "    #    opttype = {'call':1, 'put':-1}[callput.lower()]\n",
    "    #except:\n",
    "    #    raise ValueError('The value of callput must be either \"call\" or \"put\".')\n",
    "    opttype = callput    \n",
    "    d1 = (np.log(S/K) + (rd-rf+0.5*sigma**2)*T)/(sigma*np.sqrt(T))\n",
    "    d2 = d1 - sigma*np.sqrt(T)\n",
    "    price = opttype*(S*np.exp(-rf*T)*norm.cdf(opttype*d1)-K*np.exp(-rd*T)*norm.cdf(opttype*d2))\n",
    "    return price\n",
    "    "
   ]
  },
  {
   "cell_type": "code",
   "execution_count": 4,
   "metadata": {},
   "outputs": [
    {
     "data": {
      "text/plain": [
       "7.714369430203547"
      ]
     },
     "execution_count": 4,
     "metadata": {},
     "output_type": "execute_result"
    }
   ],
   "source": [
    "rd = 0.05\n",
    "rf = 0\n",
    "S = 100\n",
    "K = 95\n",
    "T = 0.25\n",
    "sigma = 0.2\n",
    "bsPrice(rd,rf,S,K,T,sigma,1)"
   ]
  },
  {
   "cell_type": "markdown",
   "metadata": {},
   "source": [
    "### Simulate samples"
   ]
  },
  {
   "cell_type": "code",
   "execution_count": 5,
   "metadata": {},
   "outputs": [],
   "source": [
    "num = 1000000\n",
    "\n",
    "rd = np.random.rand(num,1)\n",
    "rf = np.random.rand(num,1)\n",
    "S = abs(np.ceil(np.random.rand(num,1)*100))\n",
    "K = abs(S + np.ceil(np.random.normal(0,1,(num,1))))\n",
    "callput = np.ones((int(num/2),1))\n",
    "callput = np.vstack((callput,callput*-1))\n",
    "np.random.shuffle(callput)\n",
    "K[K==0]+=1\n",
    "sigma = np.random.rand(num,1)\n",
    "T = np.random.rand(num,1)\n",
    "\n",
    "X = np.concatenate((rd,rf,S,K,sigma,T,callput),axis=1)\n",
    "X = (X-np.mean(X,axis=0))/np.std(X,axis=0)\n",
    "Y = bsPrice(rd,rf,S,K,T,sigma,callput)"
   ]
  },
  {
   "cell_type": "markdown",
   "metadata": {},
   "source": [
    "### Train test split"
   ]
  },
  {
   "cell_type": "code",
   "execution_count": 7,
   "metadata": {},
   "outputs": [],
   "source": [
    "test_ratio = 0.2\n",
    "num_test = int(test_ratio*X.shape[0])\n",
    "X_train = X[num_test:]\n",
    "X_test = X[:num_test]\n",
    "Y_train = Y[num_test:]\n",
    "Y_test = Y[:num_test]"
   ]
  },
  {
   "cell_type": "markdown",
   "metadata": {},
   "source": [
    "### Train the Neural Network"
   ]
  },
  {
   "cell_type": "code",
   "execution_count": 12,
   "metadata": {},
   "outputs": [
    {
     "name": "stdout",
     "output_type": "stream",
     "text": [
      "_________________________________________________________________\n",
      "Layer (type)                 Output Shape              Param #   \n",
      "=================================================================\n",
      "dense_7 (Dense)              (None, 128)               1024      \n",
      "_________________________________________________________________\n",
      "dense_8 (Dense)              (None, 128)               16512     \n",
      "_________________________________________________________________\n",
      "dense_9 (Dense)              (None, 1)                 129       \n",
      "=================================================================\n",
      "Total params: 17,665\n",
      "Trainable params: 17,665\n",
      "Non-trainable params: 0\n",
      "_________________________________________________________________\n",
      "Train on 640000 samples, validate on 160000 samples\n",
      "Epoch 1/20\n",
      "640000/640000 [==============================] - 13s 21us/step - loss: 0.5480 - val_loss: 0.1258\n",
      "Epoch 2/20\n",
      "640000/640000 [==============================] - 12s 19us/step - loss: 0.0913 - val_loss: 0.0851\n",
      "Epoch 3/20\n",
      "640000/640000 [==============================] - 12s 18us/step - loss: 0.0538 - val_loss: 0.0337\n",
      "Epoch 4/20\n",
      "640000/640000 [==============================] - 12s 18us/step - loss: 0.0402 - val_loss: 0.0262\n",
      "Epoch 5/20\n",
      "640000/640000 [==============================] - 12s 19us/step - loss: 0.0309 - val_loss: 0.0218\n",
      "Epoch 6/20\n",
      "640000/640000 [==============================] - 13s 21us/step - loss: 0.0267 - val_loss: 0.0302\n",
      "Epoch 7/20\n",
      "640000/640000 [==============================] - 11s 18us/step - loss: 0.0238 - val_loss: 0.0169\n",
      "Epoch 8/20\n",
      "640000/640000 [==============================] - 12s 19us/step - loss: 0.0223 - val_loss: 0.0173\n",
      "Epoch 9/20\n",
      "640000/640000 [==============================] - 13s 21us/step - loss: 0.0199 - val_loss: 0.0444\n",
      "Epoch 10/20\n",
      "640000/640000 [==============================] - 12s 19us/step - loss: 0.0182 - val_loss: 0.0140\n",
      "Epoch 11/20\n",
      "640000/640000 [==============================] - 11s 18us/step - loss: 0.0172 - val_loss: 0.0152\n",
      "Epoch 12/20\n",
      "640000/640000 [==============================] - 11s 17us/step - loss: 0.0163 - val_loss: 0.0118\n",
      "Epoch 13/20\n",
      "640000/640000 [==============================] - 11s 17us/step - loss: 0.0157 - val_loss: 0.0114\n",
      "Epoch 14/20\n",
      "640000/640000 [==============================] - 12s 18us/step - loss: 0.0151 - val_loss: 0.0121\n",
      "Epoch 15/20\n",
      "640000/640000 [==============================] - 12s 19us/step - loss: 0.0141 - val_loss: 0.0130\n",
      "Epoch 16/20\n",
      "640000/640000 [==============================] - 11s 17us/step - loss: 0.0136 - val_loss: 0.0116\n",
      "Epoch 17/20\n",
      "640000/640000 [==============================] - 12s 19us/step - loss: 0.0133 - val_loss: 0.0130\n",
      "Epoch 18/20\n",
      "640000/640000 [==============================] - 11s 17us/step - loss: 0.0126 - val_loss: 0.0105\n",
      "Epoch 19/20\n",
      "640000/640000 [==============================] - 11s 17us/step - loss: 0.0126 - val_loss: 0.0106\n",
      "Epoch 20/20\n",
      "640000/640000 [==============================] - 11s 17us/step - loss: 0.0118 - val_loss: 0.0115\n"
     ]
    }
   ],
   "source": [
    "model = Sequential()\n",
    "#model.add(BatchNormalization(input_shape=[7]))\n",
    "model.add(Dense(128, input_shape = [7], activation='relu'))\n",
    "model.add(Dense(128,activation ='relu'))\n",
    "model.add(Dense(1, activation ='relu'))\n",
    "model.compile(optimizer='sgd', loss='mean_squared_error')\n",
    "model.summary()\n",
    "\n",
    "hist = model.fit(x=X_train, y=Y_train, batch_size=64, epochs=20, verbose=1, callbacks=None, validation_split=0.2,shuffle=True)"
   ]
  },
  {
   "cell_type": "markdown",
   "metadata": {},
   "source": [
    "### Train and cross validation mean squared error"
   ]
  },
  {
   "cell_type": "code",
   "execution_count": 14,
   "metadata": {},
   "outputs": [
    {
     "data": {
      "image/png": "[encoded data removed]",
      "text/plain": [
       "<matplotlib.figure.Figure at 0x1fa4b0bb978>"
      ]
     },
     "metadata": {},
     "output_type": "display_data"
    }
   ],
   "source": [
    "plt.plot(hist.history['loss'])\n",
    "plt.plot(hist.history['val_loss'])\n",
    "plt.title('Model Loss')\n",
    "plt.ylabel('loss')\n",
    "plt.xlabel('epoch')\n",
    "plt.legend(['train','validation'],loc = 'upper left')\n",
    "plt.show()"
   ]
  },
  {
   "cell_type": "markdown",
   "metadata": {},
   "source": [
    "### Evaluate test set"
   ]
  },
  {
   "cell_type": "code",
   "execution_count": 15,
   "metadata": {},
   "outputs": [],
   "source": [
    "predicted = model.predict(X_test)"
   ]
  },
  {
   "cell_type": "code",
   "execution_count": 16,
   "metadata": {},
   "outputs": [
    {
     "name": "stdout",
     "output_type": "stream",
     "text": [
      "200000/200000 [==============================] - 3s 16us/step\n",
      "Test Mean Squared Error is: 0.011211244390644134\n"
     ]
    }
   ],
   "source": [
    "loss=model.evaluate(x=X_test,y=Y_test)\n",
    "print('Test Mean Squared Error is: {}'.format(loss))"
   ]
  },
  {
   "cell_type": "code",
   "execution_count": 17,
   "metadata": {},
   "outputs": [],
   "source": [
    "def f(x):\n",
    "    return x"
   ]
  },
  {
   "cell_type": "code",
   "execution_count": 18,
   "metadata": {},
   "outputs": [
    {
     "data": {
      "image/png": "[encoded data removed]",
      "text/plain": [
       "<matplotlib.figure.Figure at 0x1fa48eeb9b0>"
      ]
     },
     "metadata": {},
     "output_type": "display_data"
    }
   ],
   "source": [
    "plt.plot(Y_test,predicted,'o')\n",
    "plt.plot(Y_test,f(Y_test),'r-')\n",
    "plt.title('Real market price VS. Model predicted price')\n",
    "plt.xlabel('Real market price')\n",
    "plt.ylabel('Model predicted price')\n",
    "plt.show()"
   ]
  },
  {
   "cell_type": "code",
   "execution_count": 27,
   "metadata": {},
   "outputs": [
    {
     "name": "stdout",
     "output_type": "stream",
     "text": [
      "Worst 10 matches\n",
      "\n",
      "Real Market Price is: 62.036541836589215\n",
      "Model Predicted Price is: [59.805588]\n",
      "\n",
      "Real Market Price is: 4.225903680473486\n",
      "Model Predicted Price is: [6.410399]\n",
      "\n",
      "Real Market Price is: 8.162644755894718\n",
      "Model Predicted Price is: [10.078527]\n",
      "\n",
      "Real Market Price is: 2.8646751281825686\n",
      "Model Predicted Price is: [4.762044]\n",
      "\n",
      "Real Market Price is: 0.15065724491446275\n",
      "Model Predicted Price is: [2.0350022]\n",
      "\n",
      "Real Market Price is: 2.739302980305041\n",
      "Model Predicted Price is: [4.5782294]\n",
      "\n",
      "Real Market Price is: 3.6936392419733153\n",
      "Model Predicted Price is: [5.3859158]\n",
      "\n",
      "Real Market Price is: 0.2310697776969306\n",
      "Model Predicted Price is: [1.856147]\n",
      "\n",
      "Real Market Price is: 61.276681087979306\n",
      "Model Predicted Price is: [59.659164]\n",
      "\n",
      "Real Market Price is: 1.8010049055017987\n",
      "Model Predicted Price is: [3.301388]\n",
      "\n"
     ]
    }
   ],
   "source": [
    "diff = {}\n",
    "for i,pred in enumerate(predicted):\n",
    "    diff[i]=abs(pred-Y_test[i])\n",
    "diff = zip(diff.values(),diff.keys())\n",
    "worst10 = sorted(diff,reverse=True)[:10]\n",
    "print(\"Worst 10 matches\\n\")\n",
    "for item in worst10:\n",
    "    ind = item[1]\n",
    "    print(\"Real Market Price is: {}\".format(Y_test[ind]))\n",
    "    print(\"Model Predicted Price is: {}\\n\".format(predicted[ind]))"
   ]
  },
  {
   "cell_type": "code",
   "execution_count": null,
   "metadata": {},
   "outputs": [],
   "source": []
  }
 ],
 "metadata": {
  "kernelspec": {
   "display_name": "Python 3",
   "language": "python",
   "name": "python3"
  },
  "language_info": {
   "codemirror_mode": {
    "name": "ipython",
    "version": 3
   },
   "file_extension": ".py",
   "mimetype": "text/x-python",
   "name": "python",
   "nbconvert_exporter": "python",
   "pygments_lexer": "ipython3",
   "version": "3.6.4"
  }
 },
 "nbformat": 4,
 "nbformat_minor": 2
}
